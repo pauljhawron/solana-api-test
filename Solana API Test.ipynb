{
 "cells": [
  {
   "cell_type": "markdown",
   "metadata": {},
   "source": [
    "# Importing Libraries"
   ]
  },
  {
   "cell_type": "code",
   "execution_count": 1,
   "metadata": {},
   "outputs": [],
   "source": [
    "import requests\n",
    "import pandas as pd\n",
    "import numpy as np\n",
    "from PIL import Image, ImageFile\n",
    "ImageFile.LOAD_TRUNCATED_IMAGES = True\n",
    "import urllib.request\n",
    "import ipyplot\n",
    "from datetime import date, datetime, timedelta"
   ]
  },
  {
   "cell_type": "markdown",
   "metadata": {},
   "source": [
    "# Defining Functions"
   ]
  },
  {
   "cell_type": "markdown",
   "metadata": {},
   "source": [
    "### Defining API Strings"
   ]
  },
  {
   "cell_type": "code",
   "execution_count": 2,
   "metadata": {},
   "outputs": [],
   "source": [
    "magic_eden_base_url = \"http://api-mainnet.magiceden.dev/v2\"\n",
    "binance_base_url = \"https://api.binance.com\"\n",
    "solscan_base_url = \"https://public-api.solscan.io\""
   ]
  },
  {
   "cell_type": "markdown",
   "metadata": {},
   "source": [
    "### Get Collection Stats"
   ]
  },
  {
   "cell_type": "code",
   "execution_count": 3,
   "metadata": {},
   "outputs": [],
   "source": [
    "# Purpose: Gets the basic stats of a collection\n",
    "# Accepts: collection symbol on ME (\"the_whitelist_project\")\n",
    "# Returns: [listed count, floor price, all-time volume]\n",
    "\n",
    "def get_collection_stats(collection_symbol):\n",
    "    \n",
    "    endpoint = \"/collections/{}/stats\".format(collection_symbol)\n",
    "    \n",
    "    querystring = {\"\":\"\"}\n",
    "    response = requests.request(\"GET\", magic_eden_base_url+endpoint, params=querystring)\n",
    "    response_json = response.json()\n",
    "    \n",
    "    listed_count = response_json['listedCount']\n",
    "    floor_price = round(response_json['floorPrice'] / 1000000000, 2)\n",
    "    total_volume = round(response_json['volumeAll'] / 1000000000, 2)\n",
    "    \n",
    "    return [listed_count, floor_price, total_volume]"
   ]
  },
  {
   "cell_type": "markdown",
   "metadata": {},
   "source": [
    "### Get Upcoming Launchpad Mints"
   ]
  },
  {
   "cell_type": "code",
   "execution_count": 4,
   "metadata": {},
   "outputs": [],
   "source": [
    "# Purpose: Gets upcoming ME launchpad collections\n",
    "# Accepts: nothing\n",
    "# Returns: list of dictionaries - all launchpad collections that haven't minted yet\n",
    "\n",
    "def get_upcoming_launchpad_mints():\n",
    "    \n",
    "    endpoint = \"/launchpad\"\n",
    "    \n",
    "    querystring = {\"offset\":\"0\", \"limit\":\"500\"}\n",
    "    response = requests.request(\"GET\", magic_eden_base_url+endpoint, params=querystring)\n",
    "    response_json = response.json()\n",
    "\n",
    "    upcoming_mints = []\n",
    "\n",
    "    for collection in response_json:\n",
    "    \n",
    "        if collection.get('launchDatetime') is not None:\n",
    "        \n",
    "            launch_date = datetime.strptime(collection.get('launchDatetime')[:10], '%Y-%m-%d')\n",
    "            today = datetime.strptime(datetime.strftime(datetime.today(), '%Y-%m-%d'), '%Y-%m-%d')\n",
    "            lead_time = timedelta(days=0)\n",
    "        \n",
    "            if launch_date - today > lead_time:\n",
    "            \n",
    "                upcoming_mints.append(collection)   \n",
    "        \n",
    "    return upcoming_mints"
   ]
  },
  {
   "cell_type": "markdown",
   "metadata": {},
   "source": [
    "### Track Wallet Activities"
   ]
  },
  {
   "cell_type": "code",
   "execution_count": 5,
   "metadata": {},
   "outputs": [],
   "source": [
    "# Purpose: Stalk whale wallets and stuff\n",
    "# Accepts: wallet address(es)?\n",
    "# Returns: list of dictionaries - latest 500 buys and sells from the specified wallet address\n",
    "\n",
    "def get_wallet_activity(wallet_address):\n",
    "    \n",
    "    endpoint = \"/wallets/{}/activities\".format(wallet_address)\n",
    "    \n",
    "    querystring = {\"offset\":\"0\", \"limit\":\"500\"}\n",
    "    response = requests.request(\"GET\", magic_eden_base_url+endpoint, params=querystring)\n",
    "    response_json = response.json()\n",
    "    \n",
    "    buys_and_sells = []\n",
    "    \n",
    "    for action in response_json:\n",
    "        \n",
    "        if (action.get('type') == 'buyNow' or action.get('type') == 'list'):\n",
    "            \n",
    "            buys_and_sells.append(action)\n",
    "    \n",
    "    return buys_and_sells"
   ]
  },
  {
   "cell_type": "markdown",
   "metadata": {},
   "source": [
    "### Get Coin Prices"
   ]
  },
  {
   "cell_type": "code",
   "execution_count": 6,
   "metadata": {
    "scrolled": true
   },
   "outputs": [],
   "source": [
    "# Purpose: Get price data for a handful of cryptocurrencies\n",
    "# Accepts: nothing\n",
    "# Returns: list of dictionaries - BTC, ETH, and SOL price data\n",
    "\n",
    "def get_crypto_prices():\n",
    "    \n",
    "    # couldn't get the multiple coin API to work - doing each of the 3 manually\n",
    "    \n",
    "    coin_prices = []\n",
    "    \n",
    "    # btc stats\n",
    "    btc_endpoint = \"/api/v3/ticker/24hr?symbol=BTCUSDC\"\n",
    "    querystring = {}\n",
    "    response = requests.request(\"GET\", binance_base_url+btc_endpoint, params=querystring)\n",
    "    btc_response_json = response.json()\n",
    "    \n",
    "    coin_prices.append({\"name\":\"Bitcoin\",\"price\":btc_response_json.get(\"lastPrice\"),\n",
    "                        \"% Change 24h\":btc_response_json.get(\"priceChangePercent\")})\n",
    "    \n",
    "    # eth stats\n",
    "    eth_endpoint = \"/api/v3/ticker/24hr?symbol=ETHUSDC\"\n",
    "    querystring = {}\n",
    "    response = requests.request(\"GET\", binance_base_url+eth_endpoint, params=querystring)\n",
    "    eth_response_json = response.json()\n",
    "    \n",
    "    coin_prices.append({\"name\":\"Ethereum\",\"price\":eth_response_json.get(\"lastPrice\"),\n",
    "                        \"% Change 24h\":eth_response_json.get(\"priceChangePercent\")})\n",
    "    \n",
    "    # sol stats\n",
    "    sol_endpoint = \"/api/v3/ticker/24hr?symbol=SOLUSDC\"\n",
    "    querystring = {}\n",
    "    response = requests.request(\"GET\", binance_base_url+sol_endpoint, params=querystring)\n",
    "    sol_response_json = response.json()\n",
    "    \n",
    "    coin_prices.append({\"name\":\"Solana\",\"price\":sol_response_json.get(\"lastPrice\"),\n",
    "                        \"% Change 24h\":sol_response_json.get(\"priceChangePercent\")})\n",
    "\n",
    "    return coin_prices  "
   ]
  },
  {
   "cell_type": "markdown",
   "metadata": {},
   "source": [
    "### Token Information"
   ]
  },
  {
   "cell_type": "code",
   "execution_count": 7,
   "metadata": {},
   "outputs": [],
   "source": [
    "# Purpose: Gets information about an NFT\n",
    "# Accepts: NFT token address (\"67a7RcsvttpTjUN44iMcHwC4HMJSXcuPYAt4GaBaxXu6\")\n",
    "# Returns: NFT details\n",
    "\n",
    "def get_collection_stats(token):\n",
    "    \n",
    "    endpoint = \"/tokens/{}\".format(token)\n",
    "    \n",
    "    querystring = {\"\":\"\"}\n",
    "    response = requests.request(\"GET\", magic_eden_base_url+endpoint, params=querystring)\n",
    "    response_json = response.json()\n",
    "    \n",
    "    return response_json"
   ]
  },
  {
   "cell_type": "code",
   "execution_count": 9,
   "metadata": {
    "scrolled": true
   },
   "outputs": [
    {
     "name": "stdout",
     "output_type": "stream",
     "text": [
      "{'mintAddress': '67a7RcsvttpTjUN44iMcHwC4HMJSXcuPYAt4GaBaxXu6', 'owner': 'CMDScdvqB3ZJJHVv7HbP3yJcmQCs25mEXfXv4BBfXLcH', 'supply': 1, 'collection': 'the_whitelist_project', 'name': 'Whitelist Ticket #967', 'updateAuthority': '9yPET7vSL7t27zFAevrni2xe3HJ6MuHQ6mNoaKLXsj6j', 'primarySaleHappened': True, 'sellerFeeBasisPoints': 500, 'image': 'https://www.arweave.net/OiRGvlvGLRwMij8OuZwbtFBelOcjroQcBllu0MPEews?ext=png', 'attributes': [{'trait_type': 'Background', 'value': 'Off-White[list]'}, {'trait_type': 'Text', 'value': 'Wavy'}, {'trait_type': 'Ticket Type', 'value': 'Priority'}, {'trait_type': 'Stripe', 'value': 'None'}, {'trait_type': 'Stamp', 'value': 'Postage'}, {'trait_type': 'Extras', 'value': 'None'}], 'properties': {'category': 'image', 'creators': [{'address': 'GWgmxJZjtNMyLLuMj7y8WESFT8BxXU8cmVnWSwYujxxe', 'share': 100}], 'files': [{'uri': 'https://www.arweave.net/OiRGvlvGLRwMij8OuZwbtFBelOcjroQcBllu0MPEews?ext=png', 'type': 'image/png'}]}}\n"
     ]
    }
   ],
   "source": [
    "print(get_collection_stats(\"67a7RcsvttpTjUN44iMcHwC4HMJSXcuPYAt4GaBaxXu6\"))"
   ]
  },
  {
   "cell_type": "markdown",
   "metadata": {},
   "source": [
    "## Next Steps\n",
    "\n",
    "- Automatically kick off on certain intervals\n",
    "- Integrate with a Discord bot"
   ]
  }
 ],
 "metadata": {
  "kernelspec": {
   "display_name": "Python 3",
   "language": "python",
   "name": "python3"
  },
  "language_info": {
   "codemirror_mode": {
    "name": "ipython",
    "version": 3
   },
   "file_extension": ".py",
   "mimetype": "text/x-python",
   "name": "python",
   "nbconvert_exporter": "python",
   "pygments_lexer": "ipython3",
   "version": "3.6.6"
  }
 },
 "nbformat": 4,
 "nbformat_minor": 2
}
